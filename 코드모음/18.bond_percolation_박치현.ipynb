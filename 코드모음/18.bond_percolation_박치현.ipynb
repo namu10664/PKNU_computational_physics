{
  "nbformat": 4,
  "nbformat_minor": 0,
  "metadata": {
    "colab": {
      "provenance": [],
      "collapsed_sections": [
        "vAslG2_4H3Bj",
        "seDqULLHH7Zo"
      ]
    },
    "kernelspec": {
      "name": "python3",
      "display_name": "Python 3"
    },
    "language_info": {
      "name": "python"
    }
  },
  "cells": [
    {
      "cell_type": "code",
      "execution_count": 1,
      "metadata": {
        "id": "MxsdeS8l9R4J"
      },
      "outputs": [],
      "source": [
        "import numpy as np\n",
        "import matplotlib.pyplot as plt"
      ]
    },
    {
      "cell_type": "markdown",
      "source": [
        "## 함수"
      ],
      "metadata": {
        "id": "vAslG2_4H3Bj"
      }
    },
    {
      "cell_type": "code",
      "source": [
        "def local(L,i):\n",
        "  N = L*L\n",
        "  right = i+1-L*(i%L==L-1)\n",
        "  left = i-1+L*(i%L==0)\n",
        "  up = i-L+N*(i//L==0)\n",
        "  down = i+L-N*(i//L==L-1)\n",
        "  return np.array([right,up,left,down])"
      ],
      "metadata": {
        "id": "SZKnkaZA9VeR"
      },
      "execution_count": 2,
      "outputs": []
    },
    {
      "cell_type": "code",
      "source": [
        "def find_root(ptr, idx):\n",
        "  idx = int(idx)\n",
        "  if ptr[idx] < 0:\n",
        "    return [idx, ptr[idx]]\n",
        "  else:\n",
        "    return find_root(ptr, ptr[idx])"
      ],
      "metadata": {
        "id": "SWDw9u14DdDN"
      },
      "execution_count": 3,
      "outputs": []
    },
    {
      "cell_type": "markdown",
      "source": [
        "## L=20일때,"
      ],
      "metadata": {
        "id": "WdAH_FZuH46X"
      }
    },
    {
      "cell_type": "code",
      "source": [
        "L=20\n",
        "bond_list=[]\n",
        "for i in range(L*L):\n",
        "  bond_list.append([i,local(L,i)[0]])\n",
        "  bond_list.append([i,local(L,i)[1]])\n",
        "\n",
        "order = np.random.permutation(bond_list)\n",
        "print(order[:10])"
      ],
      "metadata": {
        "id": "bUKHZjpr8IUH",
        "colab": {
          "base_uri": "https://localhost:8080/"
        },
        "outputId": "31eb0795-b6f2-4d04-d7ed-a9b6b0d09d60"
      },
      "execution_count": 4,
      "outputs": [
        {
          "output_type": "stream",
          "name": "stdout",
          "text": [
            "[[213 214]\n",
            " [231 211]\n",
            " [357 358]\n",
            " [102 103]\n",
            " [143 144]\n",
            " [392 372]\n",
            " [182 183]\n",
            " [395 396]\n",
            " [330 310]\n",
            " [365 366]]\n"
          ]
        }
      ]
    },
    {
      "cell_type": "code",
      "source": [
        "ptr = np.ones(L*L)*-1\n",
        "big_list=[]\n",
        "\n",
        "for i,j in order:\n",
        "  i_r_idx,i_r_size = find_root(ptr, i) #그 요소가 포함되어 있는 클러스터의 루트의 위치와 클러스터의 크기를 알아내다.\n",
        "  j_r_idx,j_r_size = find_root(ptr, j)\n",
        "\n",
        "  if i_r_idx != j_r_idx: #같은 클러스터가 아니면,\n",
        "\n",
        "    if j_r_size > i_r_size: #크기가 더 큰 클러스터에 작은 클러스터가 합쳐진다.\n",
        "      ptr[i_r_idx] = i_r_size+j_r_size\n",
        "      ptr[j_r_idx] = i_r_idx\n",
        "    else:\n",
        "      ptr[j_r_idx] = j_r_size+i_r_size\n",
        "      ptr[i_r_idx] = j_r_idx\n",
        "\n",
        "  # for l in range(len(ptr)):\n",
        "  #   if ptr[l] >= 0:\n",
        "  #     ptr[l] = find_root(ptr,l)[0]\n",
        "\n",
        "  big_list.append(min(ptr)*-1)"
      ],
      "metadata": {
        "id": "Yjyb_dWhAHDK"
      },
      "execution_count": 5,
      "outputs": []
    },
    {
      "cell_type": "code",
      "source": [
        "plt.plot(np.arange(2*L*L)/(2*L*L),np.array(big_list)/(L*L))\n",
        "plt.title('bond percolation')"
      ],
      "metadata": {
        "colab": {
          "base_uri": "https://localhost:8080/",
          "height": 469
        },
        "id": "Q78lXdtUGj2G",
        "outputId": "ff032c7d-61bb-41b5-a870-b431ae764635"
      },
      "execution_count": 6,
      "outputs": [
        {
          "output_type": "execute_result",
          "data": {
            "text/plain": [
              "Text(0.5, 1.0, 'bond percolation')"
            ]
          },
          "metadata": {},
          "execution_count": 6
        },
        {
          "output_type": "display_data",
          "data": {
            "text/plain": [
              "<Figure size 640x480 with 1 Axes>"
            ],
            "image/png": "[encoded data removed]"
          },
          "metadata": {}
        }
      ]
    },
    {
      "cell_type": "markdown",
      "source": [
        "## 함수화"
      ],
      "metadata": {
        "id": "seDqULLHH7Zo"
      }
    },
    {
      "cell_type": "code",
      "source": [
        "def find_big_percolation(L):\n",
        "    bond_list=[]\n",
        "    for i in range(L*L):\n",
        "      bond_list.append([i,local(L,i)[0]])\n",
        "      bond_list.append([i,local(L,i)[1]])\n",
        "\n",
        "    order = np.random.permutation(bond_list)\n",
        "\n",
        "    ptr = np.ones(L*L)*-1\n",
        "    big_list=[]\n",
        "\n",
        "    for i,j in order:\n",
        "      i_r_idx,i_r_size = find_root(ptr, i)\n",
        "      j_r_idx,j_r_size = find_root(ptr, j)\n",
        "\n",
        "      if i_r_idx != j_r_idx: #같은 클러스터가 아니면,\n",
        "\n",
        "        if j_r_size > i_r_size: #크기가 더 큰 클러스터에 작은 클러스터가 합쳐진다.\n",
        "          ptr[i_r_idx] = i_r_size+j_r_size\n",
        "          ptr[j_r_idx] = i_r_idx\n",
        "        else:\n",
        "          ptr[j_r_idx] = i_r_size+j_r_size\n",
        "          ptr[i_r_idx] = j_r_idx\n",
        "\n",
        "      big_list.append(min(ptr)*-1)\n",
        "    return big_list"
      ],
      "metadata": {
        "id": "86OjuXx6HBvw"
      },
      "execution_count": 12,
      "outputs": []
    },
    {
      "cell_type": "markdown",
      "source": [
        "## 실행, 결과"
      ],
      "metadata": {
        "id": "714UedV7IgTq"
      }
    },
    {
      "cell_type": "code",
      "source": [
        "%%time\n",
        "\n",
        "# L=20배열의 10번의 평균\n",
        "t,L = 10,20\n",
        "\n",
        "big_l_list=[]\n",
        "for i in range(t):\n",
        "  print(i,end=',')\n",
        "  big_l_list.append(find_big_percolation(L))\n",
        "print('.')\n",
        "big_l_list = np.array(big_l_list)\n",
        "result = (big_l_list.sum(axis=0))/t\n",
        "\n",
        "plt.plot(np.arange(2*L*L)/(2*L*L),np.array(result)/(L*L))\n",
        "plt.title('bond percolation')"
      ],
      "metadata": {
        "colab": {
          "base_uri": "https://localhost:8080/",
          "height": 521
        },
        "id": "ty7aLdO0IrGy",
        "outputId": "5879a1d5-2cda-4748-aead-8b0405014b09"
      },
      "execution_count": 13,
      "outputs": [
        {
          "output_type": "stream",
          "name": "stdout",
          "text": [
            "0,1,2,3,4,5,6,7,8,9,.\n",
            "CPU times: user 316 ms, sys: 979 µs, total: 317 ms\n",
            "Wall time: 318 ms\n"
          ]
        },
        {
          "output_type": "execute_result",
          "data": {
            "text/plain": [
              "Text(0.5, 1.0, 'bond percolation')"
            ]
          },
          "metadata": {},
          "execution_count": 13
        },
        {
          "output_type": "display_data",
          "data": {
            "text/plain": [
              "<Figure size 640x480 with 1 Axes>"
            ],
            "image/png": "[encoded data removed]"
          },
          "metadata": {}
        }
      ]
    },
    {
      "cell_type": "code",
      "source": [
        "%%time\n",
        "\n",
        "# L=100배열의 10번의 평균\n",
        "t,L = 10,100\n",
        "\n",
        "big_l_list=[]\n",
        "for i in range(t):\n",
        "  print(i,end=',')\n",
        "  big_l_list.append(find_big_percolation(L))\n",
        "print('.')\n",
        "big_l_list = np.array(big_l_list)\n",
        "result = (big_l_list.sum(axis=0))/t\n",
        "\n",
        "plt.plot(np.arange(2*L*L)/(2*L*L),np.array(result)/(L*L))\n",
        "plt.title('bond percolation')"
      ],
      "metadata": {
        "colab": {
          "base_uri": "https://localhost:8080/",
          "height": 521
        },
        "id": "mf0lx4S1IL6h",
        "outputId": "7694132b-369b-4785-ce01-c688a82433a0"
      },
      "execution_count": 14,
      "outputs": [
        {
          "output_type": "stream",
          "name": "stdout",
          "text": [
            "0,1,2,3,4,5,6,7,8,9,.\n",
            "CPU times: user 2min 44s, sys: 473 ms, total: 2min 44s\n",
            "Wall time: 2min 47s\n"
          ]
        },
        {
          "output_type": "execute_result",
          "data": {
            "text/plain": [
              "Text(0.5, 1.0, 'bond percolation')"
            ]
          },
          "metadata": {},
          "execution_count": 14
        },
        {
          "output_type": "display_data",
          "data": {
            "text/plain": [
              "<Figure size 640x480 with 1 Axes>"
            ],
            "image/png": "[encoded data removed]"
          },
          "metadata": {}
        }
      ]
    },
    {
      "cell_type": "code",
      "source": [],
      "metadata": {
        "id": "qPdBeC_BIcIY"
      },
      "execution_count": null,
      "outputs": []
    }
  ]
}