{
  "nbformat": 4,
  "nbformat_minor": 0,
  "metadata": {
    "colab": {
      "provenance": []
    },
    "kernelspec": {
      "name": "python3",
      "display_name": "Python 3"
    },
    "language_info": {
      "name": "python"
    }
  },
  "cells": [
    {
      "cell_type": "code",
      "execution_count": 2,
      "metadata": {
        "id": "zjdPCyinYNd5"
      },
      "outputs": [],
      "source": [
        "import numpy as np\n",
        "import matplotlib.pyplot as plt"
      ]
    },
    {
      "cell_type": "code",
      "source": [
        "# 아래 코드의 \"steps = np.sum(right,axis=0)*2-N\" 설명\n",
        "\n",
        "n=10\n",
        "right=4 #오른쪽이 4면 왼쪽은 6이니까 결과는 -2가 나와야함\n",
        "\n",
        "print(-(n-right) + right) # left는 값이 -(n-right)이므로,\n",
        "print(right*2-n)  #이렇게 표현됨"
      ],
      "metadata": {
        "colab": {
          "base_uri": "https://localhost:8080/",
          "height": 0
        },
        "id": "-ImNI1iUm4G_",
        "outputId": "59c5a515-6ae4-4d3d-9474-b59c8ace2921"
      },
      "execution_count": 3,
      "outputs": [
        {
          "output_type": "stream",
          "name": "stdout",
          "text": [
            "-2\n",
            "-2\n"
          ]
        }
      ]
    },
    {
      "cell_type": "code",
      "source": [
        "t=10000000 # 반복 수\n",
        "N=50\n",
        "p=0.4 #0.4 확률로 오른쪽을 향한다.\n",
        "\n",
        "rd = np.random.rand(N,t)\n",
        "\n",
        "right = rd < p\n",
        "steps = np.sum(right,axis=0)*2-N ##\n",
        "\n",
        "print(np.sum(steps>15)/t) #15보다 멀리간 경우의 확률"
      ],
      "metadata": {
        "colab": {
          "base_uri": "https://localhost:8080/",
          "height": 0
        },
        "id": "tILXkugYYRyR",
        "outputId": "448c1145-a6a0-41a0-cc41-172c04dbaeb6"
      },
      "execution_count": 5,
      "outputs": [
        {
          "output_type": "stream",
          "name": "stdout",
          "text": [
            "0.0001801\n"
          ]
        }
      ]
    },
    {
      "cell_type": "code",
      "source": [
        "#값이 나오긴 했지만 반복수에 비해 알아낸 소수점 자리수가 너무 적다.\n",
        "#이때,q(x)와 w(x)를 사용한다면 더 자세히 알 수 있다.\n",
        "#(오른쪽으로 간 경우의 샘플이 더 많기 때문이다. 오른쪽으로 더 많이 간다면 기존과는 다른 값이 나올 수 있지만 w(x)로 각각의 가중치를 다르게 주어 이것을 해결했다.)"
      ],
      "metadata": {
        "id": "Ksq4leBMtL4j"
      },
      "execution_count": 7,
      "outputs": []
    },
    {
      "cell_type": "code",
      "source": [
        "t=100000 # 반복 수\n",
        "N=50\n",
        "p=0.4\n",
        "q=0.65\n",
        "\n",
        "rd = np.random.rand(N,t)\n",
        "\n",
        "right = rd < q #이번엔 q를 이용\n",
        "\n",
        "# 각각의 step에 대한 w구하기\n",
        "w=right.copy() # True, False로 이루어진 형태이다.(q보다 작으면 True)\n",
        "w = np.where(w==True, (p/q), (1-p)/(1-q)) # True를 p/q로 바꿈 (True 가 아니면)False를 (1-p)/(1-q)로 바꿈\n",
        "\n",
        "steps = np.sum(right,axis=0)*2-N\n",
        "\n",
        "steps_w = np.prod(w, axis=0)[steps>15] #steps에서 보고싶은 값에 대해서만 뽑음(prob>15)\n",
        "\n",
        "np.sum(steps_w)/t"
      ],
      "metadata": {
        "colab": {
          "base_uri": "https://localhost:8080/"
        },
        "id": "GAiHcLdrnNhH",
        "outputId": "f922f0da-2e20-4f2f-bf1f-1162aa43edbd"
      },
      "execution_count": 8,
      "outputs": [
        {
          "output_type": "execute_result",
          "data": {
            "text/plain": [
              "0.00018066152319432135"
            ]
          },
          "metadata": {},
          "execution_count": 8
        }
      ]
    },
    {
      "cell_type": "code",
      "source": [
        "# 0.0001801 보다 더 자세한 수치가 나왔다."
      ],
      "metadata": {
        "id": "ulndrBVcPhmu"
      },
      "execution_count": null,
      "outputs": []
    }
  ]
}
