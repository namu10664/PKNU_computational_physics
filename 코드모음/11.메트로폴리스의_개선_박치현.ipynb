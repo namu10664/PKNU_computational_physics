{
  "nbformat": 4,
  "nbformat_minor": 0,
  "metadata": {
    "colab": {
      "provenance": []
    },
    "kernelspec": {
      "name": "python3",
      "display_name": "Python 3"
    },
    "language_info": {
      "name": "python"
    }
  },
  "cells": [
    {
      "cell_type": "code",
      "execution_count": null,
      "metadata": {
        "id": "lDhr3UV5snb2"
      },
      "outputs": [],
      "source": [
        "import numpy as np\n",
        "import matplotlib.pyplot as plt"
      ]
    },
    {
      "cell_type": "code",
      "source": [
        "def local(L,num):\n",
        "\n",
        "  right = num+1\n",
        "  if right % L == 0:\n",
        "    right -= L\n",
        "\n",
        "  left = num-1\n",
        "  if (left+1) % L == 0:\n",
        "    left += L\n",
        "\n",
        "  up = num - L\n",
        "  if up < 0:\n",
        "    up += L*L\n",
        "\n",
        "  down = num + L\n",
        "  if down >= L*L:\n",
        "    down -= L*L\n",
        "\n",
        "  return np.array([right,up,left,down])\n",
        "\n",
        "def local_E(arr, num):\n",
        "  L=int(np.sqrt(len(arr)))\n",
        "  return -np.sum(arr[local(L,num)])*arr[num]"
      ],
      "metadata": {
        "id": "6KBFYJtttEfq"
      },
      "execution_count": null,
      "outputs": []
    },
    {
      "cell_type": "code",
      "source": [
        "#개선점 1:기존에는 요소들의 수만큼 local_E함수의 반복을 하여야 했지만, 4번의 합을 하는 것으로 같은 계산을 할 수 있는 새로운 함수를 구현해냄\n",
        "\n",
        "# def total_energy(S): # 이 함수는 \"첫 시행에서만 사용\"하는 것으로 변경 (전체를 계산)\n",
        "#   L=int(np.sqrt(len(S)))\n",
        "#   E=0\n",
        "#   for num in range(len(S)):\n",
        "#     E += (local_E(S, num))\n",
        "#   return E/2\n",
        "\n",
        "def total_energy(S): #for문 없이 위 코드랑 같은 기능\n",
        "  L=int(np.sqrt(len(S)))\n",
        "  SS = S.reshape(L,L)\n",
        "\n",
        "  SS1 = np.insert(SS, 0, SS[L-1,:], axis = 0)\n",
        "  SS1 = np.delete(SS1, L, axis = 0)\n",
        "\n",
        "  SS2 = np.insert(SS, L, SS[0,:], axis = 0)\n",
        "  SS2 = np.delete(SS2, 0, axis = 0)\n",
        "\n",
        "  SS3 = np.insert(SS, 0, SS[:,L-1], axis = 1)\n",
        "  SS3 = np.delete(SS3, L, axis = 1)\n",
        "\n",
        "  SS4 = np.insert(SS, L, SS[:,0], axis = 1)\n",
        "  SS4 = np.delete(SS4, 0, axis = 1)\n",
        "\n",
        "  SS_sum = SS1+SS2+SS3+SS4\n",
        "  return -np.sum(SS * SS_sum)/2"
      ],
      "metadata": {
        "id": "0GnPfyZLtxTY"
      },
      "execution_count": null,
      "outputs": []
    },
    {
      "cell_type": "code",
      "source": [
        "#개선점 2: 요소 하나만 뒤집은 것이기 때문에, 총 에너지의 차이도 바뀐 요소에 의한 차잇값만큼만 차이가 난다.\n",
        "#이 차잇값만 알면 굳이 모든 요소를 이용해 총에너지를 계산할 필요가 없게 된다.\n",
        "\n",
        "def delta_E(arr, num): # 바뀐 에너지와의 차잇값만 계산. (arr은 뒤집기 전의 행렬(E_S))\n",
        "  L=int(np.sqrt(len(arr)))\n",
        "  return 2*(arr[num]) * np.sum(arr[local(L,num)])"
      ],
      "metadata": {
        "id": "bQ1EcfhlwZ3u"
      },
      "execution_count": null,
      "outputs": []
    },
    {
      "cell_type": "code",
      "source": [
        "#개선점 3: 2차원에서 요소 하나가 뒤집혀서 생기는 (에너지) 차잇값이 0보다 클때의 범위는 2종류밖에 없기 때문에 각 상황별 accept확률을 미리 계산을 해둔다.\n",
        "\n",
        "beta=1\n",
        "delta_m4 = np.exp(beta*(-4)) # 미리계산\n",
        "delta_m8 = np.exp(beta*(-8)) # 미리계산\n",
        "\n",
        "L=5\n",
        "random_arr = np.random.randn(L*L)\n",
        "S = random_arr/abs(random_arr)\n",
        "print(S)\n",
        "\n",
        "E_S = total_energy(S)\n",
        "print(E_S)"
      ],
      "metadata": {
        "colab": {
          "base_uri": "https://localhost:8080/"
        },
        "id": "I28nUUrlt_7o",
        "outputId": "4b30d5b2-2c81-4512-c24f-64f7b2d346a5"
      },
      "execution_count": null,
      "outputs": [
        {
          "output_type": "stream",
          "name": "stdout",
          "text": [
            "[ 1. -1.  1. -1. -1.  1.  1.  1. -1.  1. -1.  1.  1.  1.  1.  1.  1. -1.\n",
            "  1. -1.  1.  1.  1.  1. -1.]\n",
            "-2.0\n"
          ]
        }
      ]
    },
    {
      "cell_type": "code",
      "source": [
        "U = S.copy()\n",
        "number = np.random.choice(len(S))\n",
        "U[number] *= -1\n",
        "print(U,number,'번째 flip')\n",
        "\n",
        "delta = delta_E(S, number)\n",
        "E_U = E_S + delta #차잇값의 합으로 새로 만든 행렬의 에너지를 구한다(개선점3) # delta == (-E_S+E_U)이기 때문에 \"합\"이다.\n",
        "print('delta=',delta)"
      ],
      "metadata": {
        "colab": {
          "base_uri": "https://localhost:8080/"
        },
        "id": "RHRsPAeeuGa_",
        "outputId": "42cf1487-cac4-4188-b516-f75464a193e4"
      },
      "execution_count": null,
      "outputs": [
        {
          "output_type": "stream",
          "name": "stdout",
          "text": [
            "[ 1.  1.  1. -1. -1.  1.  1.  1. -1.  1. -1.  1.  1.  1.  1.  1.  1. -1.\n",
            "  1. -1.  1.  1.  1.  1. -1.] 1 번째 flip\n",
            "delta= -8.0\n"
          ]
        }
      ]
    },
    {
      "cell_type": "code",
      "source": [
        "if delta <= 0:\n",
        "  accept_S_to_U = 1\n",
        "else:\n",
        "  if delta == 4:\n",
        "    accept_S_to_U = delta_m4\n",
        "  elif delta == 8:\n",
        "    accept_S_to_U = delta_m8\n",
        "  else:\n",
        "    print('error, delta=',delta)\n",
        "\n",
        "if np.random.random() < accept_S_to_U:\n",
        "  S = U.copy()\n",
        "  E_S = E_U.copy()\n",
        "\n",
        "print('now E:',E_S,', m:',np.sum(S)/len(S))"
      ],
      "metadata": {
        "colab": {
          "base_uri": "https://localhost:8080/"
        },
        "id": "mUem4lHlvwJ3",
        "outputId": "bbda1e0d-09b0-4b17-81a6-b8ee01e6b11d"
      },
      "execution_count": null,
      "outputs": [
        {
          "output_type": "stream",
          "name": "stdout",
          "text": [
            "now E: -10.0 , m: 0.44\n"
          ]
        }
      ]
    },
    {
      "cell_type": "markdown",
      "source": [
        "# 반복"
      ],
      "metadata": {
        "id": "4tafcQicz_Zi"
      }
    },
    {
      "cell_type": "code",
      "source": [
        "t=1001 ##반복횟수\n",
        "beta=10 ##\n",
        "L=5 ##\n",
        "delta_m4 = np.exp(beta*(-4)) # 미리계산\n",
        "delta_m8 = np.exp(beta*(-8)) # 미리계산\n",
        "\n",
        "\n",
        "random_arr = np.random.randn(L*L)\n",
        "S = random_arr/abs(random_arr)\n",
        "print(S)\n",
        "\n",
        "E_S = total_energy(S)\n",
        "m = np.sum(S)/len(S)\n",
        "\n",
        "E_list=[E_S]\n",
        "m_list=[m]\n",
        "S_list=[S]\n",
        "\n",
        "print('first E:',E_S,', first m:',m)\n",
        "\n",
        "for t in range(t):\n",
        "    # random number, 새로운 U생성\n",
        "    U = S.copy()\n",
        "    number = np.random.choice(len(S))\n",
        "    U[number] *= -1\n",
        "#    print(number,'번째 flip')\n",
        "\n",
        "    # delta\n",
        "    delta = delta_E(S, number) # delta == (-E_S+E_U)\n",
        "    E_U = E_S + delta\n",
        "#    print('delta=',delta, end=', ')\n",
        "\n",
        "    # accept 확률\n",
        "    if delta <= 0:\n",
        "      accept_S_to_U = 1\n",
        "    else:\n",
        "      if delta == 4:\n",
        "        accept_S_to_U = delta_m4\n",
        "      elif delta == 8:\n",
        "        accept_S_to_U = delta_m8\n",
        "      else:\n",
        "        print('error, delta=',delta)\n",
        "\n",
        "    # accept, 그다음 S 확정, 측정\n",
        "    if np.random.random() < accept_S_to_U:\n",
        "      S = U.copy()\n",
        "      E_S = E_U.copy()\n",
        "    m = np.sum(S)/len(S)\n",
        "\n",
        "    if t%100 ==0:\n",
        "      print('t=',t)\n",
        "      print('now E:',E_S,', m:',m)\n",
        "\n",
        "    E_list.append(E_S)\n",
        "    m_list.append(m)\n",
        "    S_list.append(S)"
      ],
      "metadata": {
        "colab": {
          "base_uri": "https://localhost:8080/"
        },
        "id": "nWKt4STw0-0w",
        "outputId": "c479c501-ea06-4237-9778-faf570a015f2"
      },
      "execution_count": null,
      "outputs": [
        {
          "output_type": "stream",
          "name": "stdout",
          "text": [
            "[-1. -1.  1. -1.  1.  1. -1. -1.  1. -1.  1.  1. -1. -1.  1. -1. -1.  1.\n",
            "  1. -1.  1.  1. -1. -1.  1.]\n",
            "first E: 18.0 , first m: -0.04\n",
            "t= 0\n",
            "now E: 18.0 , m: -0.12\n",
            "t= 100\n",
            "now E: -38.0 , m: -0.84\n",
            "t= 200\n",
            "now E: -50.0 , m: -1.0\n",
            "t= 300\n",
            "now E: -50.0 , m: -1.0\n",
            "t= 400\n",
            "now E: -50.0 , m: -1.0\n",
            "t= 500\n",
            "now E: -50.0 , m: -1.0\n",
            "t= 600\n",
            "now E: -50.0 , m: -1.0\n",
            "t= 700\n",
            "now E: -50.0 , m: -1.0\n",
            "t= 800\n",
            "now E: -50.0 , m: -1.0\n",
            "t= 900\n",
            "now E: -50.0 , m: -1.0\n",
            "t= 1000\n",
            "now E: -50.0 , m: -1.0\n"
          ]
        }
      ]
    },
    {
      "cell_type": "code",
      "source": [
        "#beta가 10일 때\n",
        "plt.subplot(211)\n",
        "plt.plot(E_list)\n",
        "\n",
        "plt.subplot(212)\n",
        "plt.plot(m_list)"
      ],
      "metadata": {
        "colab": {
          "base_uri": "https://localhost:8080/",
          "height": 449
        },
        "id": "HbTDQnGj2GZr",
        "outputId": "a4ee2480-18ab-47b1-894a-ebc3f435b5d1"
      },
      "execution_count": null,
      "outputs": [
        {
          "output_type": "execute_result",
          "data": {
            "text/plain": [
              "[<matplotlib.lines.Line2D at 0x7c17d048b010>]"
            ]
          },
          "metadata": {},
          "execution_count": 14
        },
        {
          "output_type": "display_data",
          "data": {
            "text/plain": [
              "<Figure size 640x480 with 2 Axes>"
            ],
            "image/png": "[encoded data removed]"
          },
          "metadata": {}
        }
      ]
    },
    {
      "cell_type": "markdown",
      "source": [
        "## 함수화"
      ],
      "metadata": {
        "id": "S0A4AtGv5tXr"
      }
    },
    {
      "cell_type": "code",
      "source": [
        "def spin_E_change(beta,L, t=1000):\n",
        "  # t=1000 ##반복횟수\n",
        "  # beta=0 ##\n",
        "  # L=5 ##\n",
        "  delta_m4 = np.exp(beta*(-4)) # 미리계산\n",
        "  delta_m8 = np.exp(beta*(-8)) # 미리계산\n",
        "\n",
        "\n",
        "  random_arr = np.random.randn(L*L)\n",
        "  S = random_arr/abs(random_arr)\n",
        "#  print(S)\n",
        "\n",
        "  E_S = total_energy(S)\n",
        "  m = np.sum(S)/len(S)\n",
        "\n",
        "  E_list=[E_S]\n",
        "  m_list=[m]\n",
        "  S_list=[S]\n",
        "\n",
        "#  print('first E:',E_S,', first m:',m)\n",
        "\n",
        "  for t in range(t):\n",
        "      # random number, 새로운 U생성\n",
        "      U = S.copy()\n",
        "      number = np.random.choice(len(S))\n",
        "      U[number] *= -1\n",
        "  #    print(number,'번째 flip')\n",
        "\n",
        "      # delta\n",
        "      delta = delta_E(S, number) # delta == (-E_S+E_U)\n",
        "      E_U = E_S + delta\n",
        "  #    print('delta=',delta, end=', ')\n",
        "\n",
        "      # accept 확률\n",
        "      if delta <= 0:\n",
        "        accept_S_to_U = 1\n",
        "      else:\n",
        "        if delta == 4:\n",
        "          accept_S_to_U = delta_m4\n",
        "        elif delta == 8:\n",
        "          accept_S_to_U = delta_m8\n",
        "        else:\n",
        "          print('error, delta=',delta)\n",
        "\n",
        "      # accept, 그다음 S 확정, 측정\n",
        "      if np.random.random() < accept_S_to_U:\n",
        "        S = U.copy()\n",
        "        E_S = E_U.copy()\n",
        "      m = np.sum(S)/len(S)\n",
        "\n",
        "      # if t%100 ==0: # 반복횟수가 너무 길어서 조금만 출력\n",
        "      #   print('t=',t)\n",
        "      #   print('now E:',E_S,', m:',m)\n",
        "\n",
        "      E_list.append(E_S)\n",
        "      m_list.append(m)\n",
        "      S_list.append(S)\n",
        "\n",
        "  return E_list, m_list, S_list"
      ],
      "metadata": {
        "id": "uYNWhQ0-5vNL"
      },
      "execution_count": null,
      "outputs": []
    },
    {
      "cell_type": "markdown",
      "source": [
        "# beta 0.01~1.0"
      ],
      "metadata": {
        "id": "5Vw7q1De5-ca"
      }
    },
    {
      "cell_type": "code",
      "source": [
        "E_m_list, m_m_list = [],[]\n",
        "\n",
        "L=5\n",
        "t=1000\n",
        "for i in range(1,101):\n",
        "  beta = i*0.01\n",
        "\n",
        "  E_list, m_list, S_list = spin_E_change(beta,L, t=1000)\n",
        "\n",
        "  E_mean = np.sum(E_list[200:])/800\n",
        "  m_mean = np.sum(m_list[200:])/800\n",
        "\n",
        "  E_m_list.append(E_mean)\n",
        "  m_m_list.append(m_mean)"
      ],
      "metadata": {
        "id": "7n190TGn59pr"
      },
      "execution_count": null,
      "outputs": []
    },
    {
      "cell_type": "code",
      "source": [
        "#에너지 beta 0.1~1.0\n",
        "plt.plot(np.arange(1,101)*0.01, E_m_list)\n",
        "\n",
        "plt.xlabel('beta')\n",
        "plt.ylabel('E_mean')"
      ],
      "metadata": {
        "colab": {
          "base_uri": "https://localhost:8080/",
          "height": 466
        },
        "id": "nC-sK2av7BA8",
        "outputId": "38ba9c44-a29b-4339-ec66-380de2948970"
      },
      "execution_count": null,
      "outputs": [
        {
          "output_type": "execute_result",
          "data": {
            "text/plain": [
              "Text(0, 0.5, 'E_mean')"
            ]
          },
          "metadata": {},
          "execution_count": 17
        },
        {
          "output_type": "display_data",
          "data": {
            "text/plain": [
              "<Figure size 640x480 with 1 Axes>"
            ],
            "image/png": "[encoded data removed]"
          },
          "metadata": {}
        }
      ]
    },
    {
      "cell_type": "code",
      "source": [
        "#m beta 0.1~1.0\n",
        "plt.plot(np.arange(1,101)*0.01, np.abs(m_m_list))\n",
        "\n",
        "plt.xlabel('beta')\n",
        "plt.ylabel('m_mean')"
      ],
      "metadata": {
        "colab": {
          "base_uri": "https://localhost:8080/",
          "height": 466
        },
        "id": "vJaOS63G7u0n",
        "outputId": "b34a7481-5de6-45bb-8f7c-3deb3674c8e6"
      },
      "execution_count": null,
      "outputs": [
        {
          "output_type": "execute_result",
          "data": {
            "text/plain": [
              "Text(0, 0.5, 'm_mean')"
            ]
          },
          "metadata": {},
          "execution_count": 18
        },
        {
          "output_type": "display_data",
          "data": {
            "text/plain": [
              "<Figure size 640x480 with 1 Axes>"
            ],
            "image/png": "[encoded data removed]"
          },
          "metadata": {}
        }
      ]
    },
    {
      "cell_type": "code",
      "source": [],
      "metadata": {
        "id": "0oIAsjhK8r9C"
      },
      "execution_count": null,
      "outputs": []
    }
  ]
}