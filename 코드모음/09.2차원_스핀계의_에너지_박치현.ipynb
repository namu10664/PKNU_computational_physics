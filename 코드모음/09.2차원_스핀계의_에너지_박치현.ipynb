{
  "nbformat": 4,
  "nbformat_minor": 0,
  "metadata": {
    "colab": {
      "provenance": []
    },
    "kernelspec": {
      "name": "python3",
      "display_name": "Python 3"
    },
    "language_info": {
      "name": "python"
    }
  },
  "cells": [
    {
      "cell_type": "code",
      "execution_count": null,
      "metadata": {
        "id": "KJhc6lD8t68P"
      },
      "outputs": [],
      "source": [
        "import numpy as np"
      ]
    },
    {
      "cell_type": "code",
      "source": [
        "#행렬의 요소의 인덱스를 입력하면, 그 요소의 [오른쪽, 위, 왼쪽, 아래]에 위치한 요소들의 인덱스를 반환하는 함수\n",
        "#L=행렬의 행 길이, num=행렬에서 주위 이웃들을 찾고 싶은 요소의 위치(인덱스)\n",
        "def neighbor(L,num):\n",
        "\n",
        "  right = num+1\n",
        "  if right % L == 0:\n",
        "    right -= L\n",
        "\n",
        "  left = num-1\n",
        "  if (left+1) % L == 0:\n",
        "    left += L\n",
        "\n",
        "  up = num - L\n",
        "  if up < 0:\n",
        "    up += L*L\n",
        "\n",
        "  down = num + L\n",
        "  if down >= L*L:\n",
        "    down -= L*L\n",
        "\n",
        "  return np.array([right,up,left,down])"
      ],
      "metadata": {
        "id": "ova4ZrbDugzq"
      },
      "execution_count": null,
      "outputs": []
    },
    {
      "cell_type": "code",
      "source": [
        "print(np.array(range(5*5)).reshape(5,5), '\\n') #이웃들을 확인하기 위해 임시로 만든 행렬\n",
        "\n",
        "print('5x5행렬에서 인덱스14의 이웃들: ', neighbor(L=5,num=14))"
      ],
      "metadata": {
        "colab": {
          "base_uri": "https://localhost:8080/"
        },
        "id": "ib5DcK580X09",
        "outputId": "f0d1f59f-dd46-49a8-b809-9ef98d72baf8"
      },
      "execution_count": null,
      "outputs": [
        {
          "output_type": "stream",
          "name": "stdout",
          "text": [
            "[[ 0  1  2  3  4]\n",
            " [ 5  6  7  8  9]\n",
            " [10 11 12 13 14]\n",
            " [15 16 17 18 19]\n",
            " [20 21 22 23 24]] \n",
            "\n",
            "5x5행렬에서 인덱스14의 이웃들:  [10  9 13 19]\n"
          ]
        }
      ]
    },
    {
      "cell_type": "code",
      "source": [
        "#연결된 이웃들과 입력된 요소의 연결에 대한 에너지를 반환하는 함수\n",
        "def neighbor_E(arr, L, num):\n",
        "  return -np.sum(arr[neighbor(L,num)])*arr[num]"
      ],
      "metadata": {
        "id": "Nf4a-Wgr2LZz"
      },
      "execution_count": null,
      "outputs": []
    },
    {
      "cell_type": "code",
      "source": [
        "#  neighbor_E을 이용하여 계산을 할, 행렬을 만들어야 한다.\n",
        "\n",
        "#1또는 -1가 무작위로 채워진 5x5 행렬을 만드는 과정\n",
        "L=5                                        # L 임의로 설정\n",
        "random_arr = np.random.randn(L*L)          # 상태들의 분포 임의로 설정. +1과 -1이 50%확률로 선택되도록함. (radn에서 50% 확률로 음수인 수, 또는 양수인 수가 뽑힘 )\n",
        "S = random_arr/abs(random_arr)             # (각 크기만큼 나누어서 크기를 모두 1로 맞춤)\n",
        "\n",
        "print('1차원:\\n', S, '\\n')\n",
        "print('2차원:\\n', S.reshape(5,5))"
      ],
      "metadata": {
        "colab": {
          "base_uri": "https://localhost:8080/"
        },
        "id": "eWvX2vYekiCc",
        "outputId": "a12994c0-11a8-43c1-ad04-dc59b7f22522"
      },
      "execution_count": null,
      "outputs": [
        {
          "output_type": "stream",
          "name": "stdout",
          "text": [
            "1차원:\n",
            " [ 1. -1. -1.  1.  1. -1.  1.  1.  1.  1. -1.  1. -1.  1. -1. -1. -1.  1.\n",
            " -1. -1. -1. -1.  1. -1. -1.] \n",
            "\n",
            "2차원:\n",
            " [[ 1. -1. -1.  1.  1.]\n",
            " [-1.  1.  1.  1.  1.]\n",
            " [-1.  1. -1.  1. -1.]\n",
            " [-1. -1.  1. -1. -1.]\n",
            " [-1. -1.  1. -1. -1.]]\n"
          ]
        }
      ]
    },
    {
      "cell_type": "code",
      "source": [
        "E=0\n",
        "for num in range(len(S)):#모든 \"연결\"에 관하여 계산한다\n",
        "  E += (neighbor_E(S, L, num))\n",
        "print('E =',E/2) #a에서 b의 계산은 b에서 a의 계산과 같으므로 (중복이 있기 때문에) 2로 나눈다."
      ],
      "metadata": {
        "colab": {
          "base_uri": "https://localhost:8080/"
        },
        "id": "6_ToU4vC3F5D",
        "outputId": "6cd40263-c74c-4b9e-d356-89695ecce52d"
      },
      "execution_count": null,
      "outputs": [
        {
          "output_type": "stream",
          "name": "stdout",
          "text": [
            "E = -2.0\n"
          ]
        }
      ]
    },
    {
      "cell_type": "markdown",
      "source": [
        "# 검증"
      ],
      "metadata": {
        "id": "CPzD3ZVqNnbh"
      }
    },
    {
      "cell_type": "code",
      "source": [
        "#neighbor_E를 통해 나온 결과가 정말 맞는 값인지 확인하고자 한다.\n",
        "\n",
        "#L=2인 조건에서 직접 계산한 결과와 값이 똑같은지 비교하겠다.\n",
        "L=2\n",
        "S = np.array([-1,1,1,-1])\n",
        "print(S.reshape(L,L),'\\n')\n",
        "\n",
        "E=0\n",
        "for num in range(len(S)):\n",
        "  E += (neighbor_E(S, L, num))\n",
        "\n",
        "print('neighbor_E함수를 썼을 때:\\n E =',E/2,'\\n')\n",
        "print('직접 계산했을 때:\\n E =',(\n",
        "-((-1)*(+1))-((-1)*(+1))-((-1)*(+1))-((-1)*(+1))\n",
        "-((+1)*(-1))-((+1)*(-1))-((+1)*(-1))-((+1)*(-1))\n",
        "-((+1)*(-1))-((+1)*(-1))-((+1)*(-1))-((+1)*(-1))\n",
        "-((-1)*(+1))-((-1)*(+1))-((-1)*(+1))-((-1)*(+1))\n",
        ")/2)"
      ],
      "metadata": {
        "id": "m7LXGZg_6is0",
        "colab": {
          "base_uri": "https://localhost:8080/"
        },
        "outputId": "a14311a1-9067-4bf6-a948-2081ca5521e1"
      },
      "execution_count": null,
      "outputs": [
        {
          "output_type": "stream",
          "name": "stdout",
          "text": [
            "[[-1  1]\n",
            " [ 1 -1]] \n",
            "\n",
            "neighbor_E함수를 썼을 때:\n",
            " E = 8.0 \n",
            "\n",
            "직접 계산했을 때:\n",
            " E = 8.0\n"
          ]
        }
      ]
    },
    {
      "cell_type": "code",
      "source": [
        "#또 다른 예\n",
        "L=2\n",
        "S = np.array([-1,1,-1,-1])\n",
        "print(S.reshape(L,L),'\\n')\n",
        "\n",
        "E=0\n",
        "for num in range(len(S)):\n",
        "  E += (neighbor_E(S, L, num))\n",
        "\n",
        "print('neighbor_E함수를 썼을 때:\\n E =',E/2,'\\n')\n",
        "print('직접 계산했을 때:\\n E =',(\n",
        "-((-1)*(+1))-((-1)*(-1))-((-1)*(+1))-((-1)*(-1))\n",
        "-((+1)*(-1))-((+1)*(-1))-((+1)*(-1))-((+1)*(-1))\n",
        "-((-1)*(-1))-((-1)*(-1))-((-1)*(-1))-((-1)*(-1))\n",
        "-((-1)*(-1))-((-1)*(+1))-((-1)*(-1))-((-1)*(+1))\n",
        ")/2)"
      ],
      "metadata": {
        "colab": {
          "base_uri": "https://localhost:8080/"
        },
        "id": "4t87C8aINQIC",
        "outputId": "1e5214fc-7c9b-4c6d-8cf7-0f4272f42e7d"
      },
      "execution_count": null,
      "outputs": [
        {
          "output_type": "stream",
          "name": "stdout",
          "text": [
            "[[-1  1]\n",
            " [-1 -1]] \n",
            "\n",
            "neighbor_E함수를 썼을 때:\n",
            " E = 0.0 \n",
            "\n",
            "직접 계산했을 때:\n",
            " E = 0.0\n"
          ]
        }
      ]
    },
    {
      "cell_type": "code",
      "source": [],
      "metadata": {
        "id": "KlY_-jUtOR60"
      },
      "execution_count": null,
      "outputs": []
    }
  ]
}
