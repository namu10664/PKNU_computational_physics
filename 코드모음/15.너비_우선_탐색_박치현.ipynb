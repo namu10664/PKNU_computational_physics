{
  "nbformat": 4,
  "nbformat_minor": 0,
  "metadata": {
    "colab": {
      "provenance": []
    },
    "kernelspec": {
      "name": "python3",
      "display_name": "Python 3"
    },
    "language_info": {
      "name": "python"
    }
  },
  "cells": [
    {
      "cell_type": "code",
      "source": [
        "import numpy as np\n",
        "import queue"
      ],
      "metadata": {
        "id": "gnzCp-Kg32CG"
      },
      "execution_count": 1,
      "outputs": []
    },
    {
      "cell_type": "code",
      "source": [
        "N, Kmax = 8, 4\n",
        "K = np.array([1,2,4,1,1,3,1,1])# 이웃의 수\n",
        "nn = np.empty([N,Kmax], int)   # 이웃들\n",
        "nn[0] = np.array([2,-1,-1,-1])\n",
        "nn[1] = np.array([2,5,-1,-1])\n",
        "nn[2] = np.array([0,1,3,4])\n",
        "nn[3] = np.array([2,-1,-1,-1])\n",
        "nn[4] = np.array([2,-1,-1,-1])\n",
        "nn[5] = np.array([1,6,7,-1])\n",
        "nn[6] = np.array([5,-1,-1,-1])\n",
        "nn[7] = np.array([5,-1,-1,-1])"
      ],
      "metadata": {
        "id": "nbT2my293hIE"
      },
      "execution_count": null,
      "outputs": []
    },
    {
      "cell_type": "code",
      "source": [
        "nn"
      ],
      "metadata": {
        "colab": {
          "base_uri": "https://localhost:8080/"
        },
        "id": "hSP7hIa83wkJ",
        "outputId": "5ce1976d-1803-4205-ddbb-964d36518d72"
      },
      "execution_count": null,
      "outputs": [
        {
          "output_type": "execute_result",
          "data": {
            "text/plain": [
              "array([[ 2, -1, -1, -1],\n",
              "       [ 2,  5, -1, -1],\n",
              "       [ 0,  1,  3,  4],\n",
              "       [ 2, -1, -1, -1],\n",
              "       [ 2, -1, -1, -1],\n",
              "       [ 1,  6,  7, -1],\n",
              "       [ 5, -1, -1, -1],\n",
              "       [ 5, -1, -1, -1]])"
            ]
          },
          "metadata": {},
          "execution_count": 5
        }
      ]
    },
    {
      "cell_type": "code",
      "source": [
        "def bfs_distance(nn,start,discoverd,distance=1, q =False):\n",
        "\n",
        "  if q==False:\n",
        "    q = queue.Queue()\n",
        "    q.put(start) #처음 시작하는 지점을 큐에 저장\n",
        "\n",
        "  for t in range(q.qsize()):\n",
        "    num =q.get()\n",
        "    for j in nn[num]: #num과 연결된 지점을 확인\n",
        "      if j >= 0 and discoverd[j] < 0: #-1이 아니고, discoverd에 저장된 정보가 없으면,\n",
        "        discoverd[j] = distance #저장\n",
        "        print('distance:',distance,discoverd)\n",
        "        q.put(j) #이 이웃의 이웃도 다음 시도에서 확인하기 위해 큐에 저장\n",
        "\n",
        "\n",
        "  if q.qsize() == 0:\n",
        "    return discoverd #지금까지 저장한 discoverd를 반환\n",
        "\n",
        "  return bfs_distance(nn,start,discoverd,distance+1, q) #재귀함수 사용"
      ],
      "metadata": {
        "id": "YfuVkcO64BQQ"
      },
      "execution_count": null,
      "outputs": []
    },
    {
      "cell_type": "code",
      "source": [
        "start =  0\n",
        "\n",
        "discoverd = np.ones(N)*-1\n",
        "discoverd[start] = 0 #start는 0, 이외는 -1로 저장\n",
        "\n",
        "a = bfs_distance(nn,start,discoverd)\n",
        "print('result:',a)"
      ],
      "metadata": {
        "colab": {
          "base_uri": "https://localhost:8080/"
        },
        "id": "a5grso6AAM4h",
        "outputId": "2058665c-7830-4372-a669-abb613b55a62"
      },
      "execution_count": null,
      "outputs": [
        {
          "output_type": "stream",
          "name": "stdout",
          "text": [
            "distance: 1 [ 0. -1.  1. -1. -1. -1. -1. -1.]\n",
            "distance: 2 [ 0.  2.  1. -1. -1. -1. -1. -1.]\n",
            "distance: 2 [ 0.  2.  1.  2. -1. -1. -1. -1.]\n",
            "distance: 2 [ 0.  2.  1.  2.  2. -1. -1. -1.]\n",
            "distance: 3 [ 0.  2.  1.  2.  2.  3. -1. -1.]\n",
            "distance: 4 [ 0.  2.  1.  2.  2.  3.  4. -1.]\n",
            "distance: 4 [0. 2. 1. 2. 2. 3. 4. 4.]\n",
            "result: [0. 2. 1. 2. 2. 3. 4. 4.]\n"
          ]
        }
      ]
    },
    {
      "cell_type": "code",
      "source": [
        "start =  1\n",
        "\n",
        "discoverd = np.ones(N)*-1\n",
        "discoverd[start] = 0 #start는 0, 이외는 -1로 저장\n",
        "\n",
        "a = bfs_distance(nn,start,discoverd)\n",
        "print('result:',a)"
      ],
      "metadata": {
        "colab": {
          "base_uri": "https://localhost:8080/"
        },
        "id": "KEgL-Odp6l0s",
        "outputId": "33bb835c-6349-4308-ab97-39dbf8716e5d"
      },
      "execution_count": null,
      "outputs": [
        {
          "output_type": "stream",
          "name": "stdout",
          "text": [
            "distance: 1 [-1.  0.  1. -1. -1. -1. -1. -1.]\n",
            "distance: 1 [-1.  0.  1. -1. -1.  1. -1. -1.]\n",
            "distance: 2 [ 2.  0.  1. -1. -1.  1. -1. -1.]\n",
            "distance: 2 [ 2.  0.  1.  2. -1.  1. -1. -1.]\n",
            "distance: 2 [ 2.  0.  1.  2.  2.  1. -1. -1.]\n",
            "distance: 2 [ 2.  0.  1.  2.  2.  1.  2. -1.]\n",
            "distance: 2 [2. 0. 1. 2. 2. 1. 2. 2.]\n",
            "result: [2. 0. 1. 2. 2. 1. 2. 2.]\n"
          ]
        }
      ]
    },
    {
      "cell_type": "code",
      "source": [],
      "metadata": {
        "id": "bBktWfxM-4RG"
      },
      "execution_count": null,
      "outputs": []
    }
  ]
}