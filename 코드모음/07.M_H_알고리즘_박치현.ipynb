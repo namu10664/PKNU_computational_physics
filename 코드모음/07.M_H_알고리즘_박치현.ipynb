{
  "nbformat": 4,
  "nbformat_minor": 0,
  "metadata": {
    "colab": {
      "provenance": []
    },
    "kernelspec": {
      "name": "python3",
      "display_name": "Python 3"
    },
    "language_info": {
      "name": "python"
    }
  },
  "cells": [
    {
      "cell_type": "code",
      "source": [
        "#Gumbel 분포를 제안분포로, 정규분포를 목표분포로 한 M-H 알고리즘 구현"
      ],
      "metadata": {
        "id": "7z69XEGtuTDJ"
      },
      "execution_count": null,
      "outputs": []
    },
    {
      "cell_type": "code",
      "execution_count": 1,
      "metadata": {
        "id": "JC3q5744kQ1f"
      },
      "outputs": [],
      "source": [
        "import numpy as np\n",
        "import matplotlib.pyplot as plt"
      ]
    },
    {
      "cell_type": "code",
      "source": [
        "def p(x):\n",
        "  return 1/np.sqrt(2*np.pi) * np.exp(-(x**2)/2)\n",
        "\n",
        "def q(x,m,s=0.5):\n",
        "  return 1/s * np.exp(-(x-m)/s) * np.exp( -np.exp(-(x-m)/s) )\n",
        "\n",
        "# p(x)와 q(x)를 이용하여 alpha함수를 만들었다.\n",
        "# alpha함수는 기존변수 x와 gumbel에서 뽑은 새로운 변수 x_star를 이용하여 새로운 변수 x_star를 받아들지, 않을지에 대한 확률을 반환한다.\n",
        "def alpha(x,x_star):\n",
        "  v = (p(x_star)*q(x,x_star))/(p(x)*q(x_star,x))\n",
        "  return  min(1, v)"
      ],
      "metadata": {
        "id": "jQXP1yOLp7O-"
      },
      "execution_count": 3,
      "outputs": []
    },
    {
      "cell_type": "code",
      "source": [
        "# def T(x,x_star):\n",
        "#   return q(x_star,x)*alpha(x,x_star)"
      ],
      "metadata": {
        "id": "o68mvg7JpztZ"
      },
      "execution_count": null,
      "outputs": []
    },
    {
      "cell_type": "code",
      "source": [
        "x,s=5,0.5\n",
        "x_list=[x]\n",
        "\n",
        "for i in range(100000):\n",
        "  x_star = np.random.gumbel(x,s)\n",
        "\n",
        "  if np.random.uniform() < alpha(x,x_star):\n",
        "    pass#accept\n",
        "  else:\n",
        "    x_star=x\n",
        "\n",
        "  x_list.append(x_star)\n",
        "  x=x_star"
      ],
      "metadata": {
        "id": "W3S1dcasqIbe"
      },
      "execution_count": 4,
      "outputs": []
    },
    {
      "cell_type": "code",
      "source": [
        "plt.hist(x_list,bins=100)"
      ],
      "metadata": {
        "colab": {
          "base_uri": "https://localhost:8080/",
          "height": 1000
        },
        "id": "QbJTJ0y9q73_",
        "outputId": "9f6defe2-2328-4604-b625-e666983862f5"
      },
      "execution_count": 5,
      "outputs": [
        {
          "output_type": "execute_result",
          "data": {
            "text/plain": [
              "(array([1.000e+00, 0.000e+00, 4.000e+00, 5.000e+00, 2.000e+00, 9.000e+00,\n",
              "        1.400e+01, 1.200e+01, 1.700e+01, 2.500e+01, 3.000e+01, 2.000e+01,\n",
              "        5.400e+01, 6.200e+01, 7.300e+01, 8.000e+01, 1.020e+02, 1.310e+02,\n",
              "        2.010e+02, 2.530e+02, 2.870e+02, 3.150e+02, 3.950e+02, 5.430e+02,\n",
              "        6.260e+02, 6.830e+02, 9.140e+02, 1.001e+03, 1.129e+03, 1.257e+03,\n",
              "        1.458e+03, 1.604e+03, 1.815e+03, 2.139e+03, 2.299e+03, 2.446e+03,\n",
              "        2.573e+03, 2.693e+03, 2.976e+03, 3.147e+03, 3.161e+03, 3.483e+03,\n",
              "        3.593e+03, 3.554e+03, 3.447e+03, 3.620e+03, 3.571e+03, 3.531e+03,\n",
              "        3.499e+03, 3.168e+03, 3.152e+03, 3.015e+03, 3.013e+03, 2.743e+03,\n",
              "        2.633e+03, 2.397e+03, 2.087e+03, 1.953e+03, 1.799e+03, 1.614e+03,\n",
              "        1.449e+03, 1.249e+03, 1.055e+03, 1.138e+03, 8.280e+02, 7.190e+02,\n",
              "        6.420e+02, 4.760e+02, 3.790e+02, 3.300e+02, 2.680e+02, 2.080e+02,\n",
              "        1.930e+02, 1.430e+02, 1.160e+02, 8.900e+01, 7.800e+01, 6.000e+01,\n",
              "        4.700e+01, 3.100e+01, 1.100e+01, 1.100e+01, 1.100e+01, 2.000e+00,\n",
              "        1.000e+00, 5.000e+00, 7.000e+00, 5.000e+00, 8.000e+00, 0.000e+00,\n",
              "        0.000e+00, 0.000e+00, 4.000e+00, 2.000e+00, 0.000e+00, 0.000e+00,\n",
              "        0.000e+00, 0.000e+00, 0.000e+00, 8.000e+00]),\n",
              " array([-4.09248490e+00, -4.00156005e+00, -3.91063520e+00, -3.81971035e+00,\n",
              "        -3.72878550e+00, -3.63786065e+00, -3.54693580e+00, -3.45601095e+00,\n",
              "        -3.36508610e+00, -3.27416125e+00, -3.18323641e+00, -3.09231156e+00,\n",
              "        -3.00138671e+00, -2.91046186e+00, -2.81953701e+00, -2.72861216e+00,\n",
              "        -2.63768731e+00, -2.54676246e+00, -2.45583761e+00, -2.36491277e+00,\n",
              "        -2.27398792e+00, -2.18306307e+00, -2.09213822e+00, -2.00121337e+00,\n",
              "        -1.91028852e+00, -1.81936367e+00, -1.72843882e+00, -1.63751397e+00,\n",
              "        -1.54658912e+00, -1.45566428e+00, -1.36473943e+00, -1.27381458e+00,\n",
              "        -1.18288973e+00, -1.09196488e+00, -1.00104003e+00, -9.10115182e-01,\n",
              "        -8.19190333e-01, -7.28265484e-01, -6.37340635e-01, -5.46415786e-01,\n",
              "        -4.55490937e-01, -3.64566088e-01, -2.73641239e-01, -1.82716390e-01,\n",
              "        -9.17915415e-02, -8.66692503e-04,  9.00581565e-02,  1.80983005e-01,\n",
              "         2.71907854e-01,  3.62832703e-01,  4.53757552e-01,  5.44682401e-01,\n",
              "         6.35607250e-01,  7.26532099e-01,  8.17456948e-01,  9.08381797e-01,\n",
              "         9.99306646e-01,  1.09023149e+00,  1.18115634e+00,  1.27208119e+00,\n",
              "         1.36300604e+00,  1.45393089e+00,  1.54485574e+00,  1.63578059e+00,\n",
              "         1.72670544e+00,  1.81763029e+00,  1.90855514e+00,  1.99947998e+00,\n",
              "         2.09040483e+00,  2.18132968e+00,  2.27225453e+00,  2.36317938e+00,\n",
              "         2.45410423e+00,  2.54502908e+00,  2.63595393e+00,  2.72687878e+00,\n",
              "         2.81780363e+00,  2.90872847e+00,  2.99965332e+00,  3.09057817e+00,\n",
              "         3.18150302e+00,  3.27242787e+00,  3.36335272e+00,  3.45427757e+00,\n",
              "         3.54520242e+00,  3.63612727e+00,  3.72705211e+00,  3.81797696e+00,\n",
              "         3.90890181e+00,  3.99982666e+00,  4.09075151e+00,  4.18167636e+00,\n",
              "         4.27260121e+00,  4.36352606e+00,  4.45445091e+00,  4.54537576e+00,\n",
              "         4.63630060e+00,  4.72722545e+00,  4.81815030e+00,  4.90907515e+00,\n",
              "         5.00000000e+00]),\n",
              " <BarContainer object of 100 artists>)"
            ]
          },
          "metadata": {},
          "execution_count": 5
        },
        {
          "output_type": "display_data",
          "data": {
            "text/plain": [
              "<Figure size 640x480 with 1 Axes>"
            ],
            "image/png": "[encoded data removed]"
          },
          "metadata": {}
        }
      ]
    },
    {
      "cell_type": "code",
      "source": [
        "#임의의 함수(Gumbel)를 확률함수로 설정하여 정규분포를 만들었다."
      ],
      "metadata": {
        "id": "DMDX0FGysTsQ"
      },
      "execution_count": null,
      "outputs": []
    }
  ]
}
