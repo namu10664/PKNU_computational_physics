{
  "nbformat": 4,
  "nbformat_minor": 0,
  "metadata": {
    "colab": {
      "provenance": []
    },
    "kernelspec": {
      "name": "python3",
      "display_name": "Python 3"
    },
    "language_info": {
      "name": "python"
    }
  },
  "cells": [
    {
      "cell_type": "code",
      "source": [
        "import numpy as np"
      ],
      "metadata": {
        "id": "q97oVZhPeo8H"
      },
      "execution_count": 1,
      "outputs": []
    },
    {
      "cell_type": "markdown",
      "source": [
        "#1."
      ],
      "metadata": {
        "id": "qVFrq-Lkp-bM"
      }
    },
    {
      "cell_type": "code",
      "execution_count": 24,
      "metadata": {
        "id": "i8rbN7VMekuY"
      },
      "outputs": [],
      "source": [
        "def g(x):\n",
        "  return np.exp(-0.5 * (x**2) )\n",
        "\n",
        "def p(x,a=0,b=10):#x는 a와 b사이에서...\n",
        "  return 1/(b-a)"
      ]
    },
    {
      "cell_type": "code",
      "source": [
        "N=10000\n",
        "\n",
        "a,b=0,10\n",
        "xi_1= np.random.uniform(a,b,N) #p(x)에서 뽑은 xi\n",
        "\n",
        "print('p(x)를 사용한 경우:', (np.sum( g(xi_1) ))/N )"
      ],
      "metadata": {
        "colab": {
          "base_uri": "https://localhost:8080/"
        },
        "id": "gQ92pFE6fKnB",
        "outputId": "2eb9a7b9-0924-46b6-99a2-afe572c96689"
      },
      "execution_count": 26,
      "outputs": [
        {
          "output_type": "stream",
          "name": "stdout",
          "text": [
            "p(x)를 사용한 경우: 0.12342694042641765\n"
          ]
        }
      ]
    },
    {
      "cell_type": "code",
      "source": [
        "def q(x):\n",
        "  return np.exp(-x)/(1-np.exp(-10))\n",
        "\n",
        "def w(x, a=0, b=10):\n",
        "  return p(x,a,b)/q(x)"
      ],
      "metadata": {
        "id": "aGLPi6s3gu45"
      },
      "execution_count": 27,
      "outputs": []
    },
    {
      "cell_type": "code",
      "source": [
        "N=10000\n",
        "\n",
        "u= np.random.uniform(0,1,N)\n",
        "xi_2 = -np.log(1-(1 - np.exp(-10))*u) #q(x)에서 뽑은 xi\n",
        "\n",
        "print('q(x),w(x)를 사용한 경우:', (1/N)*(np.sum( g(xi_2)*w(xi_2) )) )"
      ],
      "metadata": {
        "colab": {
          "base_uri": "https://localhost:8080/"
        },
        "id": "f5peTEpsfaDU",
        "outputId": "c8519f09-137e-48da-c502-586aa98f71e6"
      },
      "execution_count": 28,
      "outputs": [
        {
          "output_type": "stream",
          "name": "stdout",
          "text": [
            "q(x),w(x)를 사용한 경우: 0.1257283351332186\n"
          ]
        }
      ]
    },
    {
      "cell_type": "code",
      "source": [
        "#p(x)에서 샘플을 뽑아서 계산하는 것을 q(x)에서 샘플을 뽑고 w(x)로 가중치를 다르게 주어 계산하는 방식으로 바꿀 수 있다.\n",
        "#q(x)로 샘플을 뽑는 것으로 원하는 구역에세 더 자세하게 샘플을 뽑을 수 있다."
      ],
      "metadata": {
        "id": "h5PT1vw-q10A"
      },
      "execution_count": 29,
      "outputs": []
    },
    {
      "cell_type": "markdown",
      "source": [
        "# 2."
      ],
      "metadata": {
        "id": "QjEtdPACp_xJ"
      }
    },
    {
      "cell_type": "code",
      "source": [
        "# def g(x, z=3):\n",
        "#   if x>z:\n",
        "#     return 1\n",
        "#   else:\n",
        "#     return 0\n",
        "\n",
        "def p(x):\n",
        "  return 1/np.sqrt(2*np.pi) * np.exp(-(x**2)/2)"
      ],
      "metadata": {
        "id": "9w9_cWR1koVP"
      },
      "execution_count": 30,
      "outputs": []
    },
    {
      "cell_type": "code",
      "source": [
        "N=100000\n",
        "\n",
        "xi_1= np.random.normal(0,1,N)\n",
        "\n",
        "z=3\n",
        "mask = (xi_1>z)\n",
        "print('p(x)를 사용한 경우:', (1/N)*(np.sum( np.sum(mask) )) )"
      ],
      "metadata": {
        "colab": {
          "base_uri": "https://localhost:8080/"
        },
        "id": "z6RTGrHfqi5T",
        "outputId": "262e688e-35b4-4a9f-9a1e-44b610e97d6b"
      },
      "execution_count": 31,
      "outputs": [
        {
          "output_type": "stream",
          "name": "stdout",
          "text": [
            "p(x)를 사용한 경우: 0.00128\n"
          ]
        }
      ]
    },
    {
      "cell_type": "code",
      "source": [
        "def q(x,z=3):\n",
        "  return 1/np.sqrt(2*np.pi) * np.exp(-((x-z)**2)/2)\n",
        "\n",
        "def w(x,z=3):\n",
        "  return p(x)/q(x,z)"
      ],
      "metadata": {
        "id": "fpV6pt_rt6lU"
      },
      "execution_count": 33,
      "outputs": []
    },
    {
      "cell_type": "code",
      "source": [
        "N=100000\n",
        "\n",
        "z=3\n",
        "xi_2= np.random.normal(z,1,N)\n",
        "\n",
        "print('q(x),w(x)를 사용한 경우:', (1/N)*(np.sum(w(xi_2)[xi_2>z] )) ) #w에서 인덱스가 True인 요소들만 사용(= *1), False(= *0)"
      ],
      "metadata": {
        "colab": {
          "base_uri": "https://localhost:8080/"
        },
        "id": "PfTsGx_9tFkT",
        "outputId": "00f3fbed-9ec6-409c-bcd4-7325b4d20a4b"
      },
      "execution_count": 34,
      "outputs": [
        {
          "output_type": "stream",
          "name": "stdout",
          "text": [
            "q(x),w(x)를 사용한 경우: 0.0013486823934953061\n"
          ]
        }
      ]
    },
    {
      "cell_type": "code",
      "source": [],
      "metadata": {
        "id": "Y0oUvvcCv2NJ"
      },
      "execution_count": null,
      "outputs": []
    }
  ]
}