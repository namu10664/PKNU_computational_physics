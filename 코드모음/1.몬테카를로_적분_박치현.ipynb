{
  "nbformat": 4,
  "nbformat_minor": 0,
  "metadata": {
    "colab": {
      "provenance": []
    },
    "kernelspec": {
      "name": "python3",
      "display_name": "Python 3"
    },
    "language_info": {
      "name": "python"
    }
  },
  "cells": [
    {
      "cell_type": "code",
      "source": [
        "#몬테카를로 적분: 적분하는 \"구간의 샘플을 미리 뽑아서\" 각각 샘플을 식에 대해 계산을 하고 합한다\n",
        "#적분을 확률 변수 f(x)/p(x) 와 확률 p(x)의 곱으로, 몇개의 샘플을 뽑아서 확률변수 f(x)/p(x)의 평균을 이용해 적분을 근사한다.\n",
        "\n",
        "import numpy as np"
      ],
      "metadata": {
        "id": "405vG90yPW47"
      },
      "execution_count": 31,
      "outputs": []
    },
    {
      "cell_type": "code",
      "source": [
        "#0~2 구간에서 무작위로 샘플을 10000개 뽑았다.\n",
        "N = 10000\n",
        "sample = np.random.uniform(0,2,10000)"
      ],
      "metadata": {
        "id": "bgb3yOrz7zP2"
      },
      "execution_count": 32,
      "outputs": []
    },
    {
      "cell_type": "code",
      "source": [
        "#적분을 할 함수: 0~2로 적분을 하면 \"(2)**3 - (0)**3 = 8-0 = 8\"~> 8이 나올 것으로 예상한다.\n",
        "def f(x):\n",
        "  return 3*(x**2)"
      ],
      "metadata": {
        "id": "x-Z6gAPZh3N0"
      },
      "execution_count": 33,
      "outputs": []
    },
    {
      "cell_type": "code",
      "source": [
        "sum_gx=0\n",
        "for i in range(N):\n",
        "  sum_gx += f(sample[i])#뽑은 샘플마다 g(x)함수를 계산한다.\n",
        "result = (1/N)*sum_gx\n",
        "\n",
        "print(result)#4에 가까운 값이 나온다.(N이 클수록 4에 가까워 진다.)"
      ],
      "metadata": {
        "colab": {
          "base_uri": "https://localhost:8080/"
        },
        "id": "35ZCngRChjeC",
        "outputId": "c6229ed5-8dad-4ffd-c506-72969aea0342"
      },
      "execution_count": 34,
      "outputs": [
        {
          "output_type": "stream",
          "name": "stdout",
          "text": [
            "3.986649104709181\n"
          ]
        }
      ]
    },
    {
      "cell_type": "code",
      "source": [
        "# print(np.sum(f(sample))/N) #넘파이 행렬은 함수에서 한번에 계산할 수 있다."
      ],
      "metadata": {
        "colab": {
          "base_uri": "https://localhost:8080/"
        },
        "id": "FS5vpTgL8GOu",
        "outputId": "03310c45-8bd4-4c96-8078-ec36e847b012"
      },
      "execution_count": 35,
      "outputs": [
        {
          "output_type": "stream",
          "name": "stdout",
          "text": [
            "3.986649104709184\n"
          ]
        }
      ]
    },
    {
      "cell_type": "code",
      "source": [
        "def p(x):\n",
        "  return 1/2"
      ],
      "metadata": {
        "id": "0bTZQWwsiErW"
      },
      "execution_count": 36,
      "outputs": []
    },
    {
      "cell_type": "code",
      "source": [
        "sum_gx=0\n",
        "for i in range(N):\n",
        "  sum_gx += f(sample[i])/p(sample[i])\n",
        "result = (1/N)*sum_gx\n",
        "\n",
        "print(result)#8에 가까운 값이 나온다.(N이 클수록 8에 가까워 진다.)"
      ],
      "metadata": {
        "colab": {
          "base_uri": "https://localhost:8080/"
        },
        "id": "Ak-sNDX1iPIW",
        "outputId": "37dfeb51-399a-4b2b-df69-d328e8f23a66"
      },
      "execution_count": 37,
      "outputs": [
        {
          "output_type": "stream",
          "name": "stdout",
          "text": [
            "7.973298209418362\n"
          ]
        }
      ]
    },
    {
      "cell_type": "code",
      "source": [
        "# print(np.sum(f(sample)/p(sample)) /N) #이 과정도 넘파이 행렬은 함수에서 한번에 계산할 수 있다."
      ],
      "metadata": {
        "colab": {
          "base_uri": "https://localhost:8080/"
        },
        "id": "lJNhMCXQWNNI",
        "outputId": "a8b9f312-cfef-4aaf-dfbb-f8151bf00b75"
      },
      "execution_count": 38,
      "outputs": [
        {
          "output_type": "stream",
          "name": "stdout",
          "text": [
            "7.973298209418368\n"
          ]
        }
      ]
    },
    {
      "cell_type": "code",
      "source": [
        "#N이 클수록 8에 가까워진다.\n",
        "for N in [10,100,1000,10000,100000,1000000]:\n",
        "  sample = np.random.uniform(0,2,N)\n",
        "  result = np.sum(f(sample)/p(sample)) /N\n",
        "  print(result)\n",
        "  print('차이값: ',abs(8-result),'\\n')"
      ],
      "metadata": {
        "colab": {
          "base_uri": "https://localhost:8080/"
        },
        "id": "DCygOGsNWdAo",
        "outputId": "0894564b-cf8d-4d96-a1dc-0855dbab5fa1"
      },
      "execution_count": 46,
      "outputs": [
        {
          "output_type": "stream",
          "name": "stdout",
          "text": [
            "12.13252604589354\n",
            "차이값:  4.13252604589354 \n",
            "\n",
            "8.163833537462342\n",
            "차이값:  0.16383353746234164 \n",
            "\n",
            "7.9682123300082806\n",
            "차이값:  0.03178766999171945 \n",
            "\n",
            "7.976443102028529\n",
            "차이값:  0.023556897971470647 \n",
            "\n",
            "7.99151798850976\n",
            "차이값:  0.00848201149023975 \n",
            "\n",
            "8.00266056326473\n",
            "차이값:  0.0026605632647296318 \n",
            "\n"
          ]
        }
      ]
    },
    {
      "cell_type": "code",
      "source": [],
      "metadata": {
        "id": "0lNzkBJvWrJC"
      },
      "execution_count": null,
      "outputs": []
    }
  ]
}
